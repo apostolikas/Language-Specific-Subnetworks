{
 "cells": [
  {
   "cell_type": "code",
   "execution_count": 1,
   "id": "b9f93c8c",
   "metadata": {},
   "outputs": [
    {
     "name": "stdout",
     "output_type": "stream",
     "text": [
      "/home/gergopool/work/uva/atcs/Language-Specific-Subnetworks\n"
     ]
    }
   ],
   "source": [
    "%cd ../../"
   ]
  },
  {
   "cell_type": "code",
   "execution_count": 2,
   "id": "b350635f",
   "metadata": {},
   "outputs": [],
   "source": [
    "import pandas as pd\n",
    "from matplotlib import pyplot as plt\n",
    "import seaborn as sns\n",
    "import os\n",
    "import torch\n",
    "import glob\n",
    "import numpy as np\n",
    "from functools import partial\n",
    "from IPython.display import Latex\n",
    "\n",
    "from data import ALLOWED_LANGUAGES, ALLOWED_DATASETS\n",
    "if 'wikiann' in ALLOWED_DATASETS:\n",
    "    ALLOWED_DATASETS.remove('wikiann')\n",
    "\n",
    "%matplotlib inline"
   ]
  },
  {
   "cell_type": "markdown",
   "id": "9400585f",
   "metadata": {},
   "source": [
    "## Stability"
   ]
  },
  {
   "cell_type": "code",
   "execution_count": 3,
   "id": "b2413f88",
   "metadata": {},
   "outputs": [],
   "source": [
    "def compare(compare_fn):\n",
    "    sim_values = []\n",
    "    for task in ALLOWED_DATASETS:\n",
    "        for lang in ALLOWED_LANGUAGES:\n",
    "            for seed1 in range(5):\n",
    "                seed2 = (seed1+1)%5\n",
    "                value = compare_fn(task, lang, seed1, seed2)\n",
    "                if value is not None:\n",
    "                    sim_values.append(value)\n",
    "    return np.mean(sim_values), np.std(sim_values)\n",
    "\n",
    "def compare_jaccard(task, lang, seed1, seed2):\n",
    "    mask1 = torch.load(f\"results/pruned_masks/{task}/{lang}_{seed1}.pkl\").bool()\n",
    "    mask2 = torch.load(f\"results/pruned_masks/{task}/{lang}_{seed2}.pkl\").bool()\n",
    "    sim = (mask1&mask2).sum() / (mask1|mask2).sum()\n",
    "    return sim.item()\n",
    "\n",
    "def compare_cka(task, lang, seed1, seed2):\n",
    "    filename = f\"{task}_{lang}_{seed1}_{task}_{lang}_{seed2}\"\n",
    "    sim = torch.load(f\"results/cka/across_seeds/{filename}.pkl\").diag().mean()\n",
    "    if not torch.isnan(sim):\n",
    "        return sim.item()\n",
    "\n",
    "def _compare_stitch(task, lang, seed1, seed2, df=None):\n",
    "    w1 = df.front_seed == seed1\n",
    "    w2 = df.end_seed = seed2\n",
    "    w3 = df.front_lang == lang\n",
    "    w4 = df.front_model == task\n",
    "    x = df.loc[w1&w2&w3&w4]\n",
    "    if len(x):\n",
    "        return min(x['sim_acc'].mean(), 1)\n",
    "    \n",
    "# Prepare stitching\n",
    "stitch_df = pd.read_csv('results/stitch/stitch_across_seeds.csv')\n",
    "stitch_df['sim_acc'] = stitch_df.stitch_acc / stitch_df.end_acc\n",
    "compare_stitch = partial(_compare_stitch, df=stitch_df)\n",
    "\n",
    "# Similarities\n",
    "jaccard = compare(compare_jaccard)\n",
    "cka = compare(compare_cka)\n",
    "stitch = compare(compare_stitch)"
   ]
  },
  {
   "cell_type": "code",
   "execution_count": 4,
   "id": "382d4ddd",
   "metadata": {},
   "outputs": [
    {
     "name": "stdout",
     "output_type": "stream",
     "text": [
      "\\begin{table}\n",
      "\\centering\n",
      "\\label{stability}\n",
      "\\begin{tabular}{ccc}\n",
      "\\toprule\n",
      "         Jaccard &              CKA &               RA \\\\\n",
      "\\midrule\n",
      "$0.50 \\pm(0.14)$ & $0.72 \\pm(0.08)$ & $0.99 \\pm(0.01)$ \\\\\n",
      "\\bottomrule\n",
      "\\end{tabular}\n",
      "\\caption{Average of metrics over 5 pairs of seeds per language, per task.}\n",
      "\\label{table:stability}\n",
      "\\end{table}\n",
      "\n"
     ]
    },
    {
     "name": "stderr",
     "output_type": "stream",
     "text": [
      "/tmp/ipykernel_2244275/161131879.py:3: FutureWarning: In future versions `DataFrame.to_latex` is expected to utilise the base implementation of `Styler.to_latex` for formatting and rendering. The arguments signature may therefore change. It is recommended instead to use `DataFrame.style.to_latex` which also contains additional functionality.\n",
      "  table = pd.DataFrame({\n"
     ]
    }
   ],
   "source": [
    "caption = \"Average of metrics over 5 pairs of seeds per language, per task.\"\n",
    "label = \"stability\"\n",
    "table = pd.DataFrame({\n",
    "    \"Jaccard\" : [f\"${jaccard[0]:.2f} \\pm({jaccard[1]:.2f})$\"],\n",
    "    \"CKA\" : [f\"${cka[0]:.2f} \\pm({cka[1]:.2f})$\"],\n",
    "    \"RA\" : [f\"${stitch[0]:.2f} \\pm({stitch[1]:.2f})$\"],\n",
    "}).to_latex(escape=False, label=label, column_format='ccc', index=False)\n",
    "\n",
    "table = table.replace(\"\\end{tabular}\", \"\\end{tabular}\\n\\label{table:\"+label+\"}\")\n",
    "table = table.replace(\"\\end{tabular}\", \"\\end{tabular}\\n\\caption{\"+caption+\"}\")\n",
    "print(table)\n",
    "\n",
    "# print(pd.Series(data=[f\"${x[0]:.2f} \\pm({x[1]:.2f})\" for x in [jaccard, cka, stitch]],\n",
    "#                 index=['Jaccard', 'CKA', 'RA'])\n",
    "#                 .to_latex(escape=False, caption=caption, label=label, column_format='ccc'))"
   ]
  },
  {
   "cell_type": "code",
   "execution_count": null,
   "id": "8cd41cb2",
   "metadata": {},
   "outputs": [],
   "source": []
  }
 ],
 "metadata": {
  "kernelspec": {
   "display_name": "Python 3 (ipykernel)",
   "language": "python",
   "name": "python3"
  },
  "language_info": {
   "codemirror_mode": {
    "name": "ipython",
    "version": 3
   },
   "file_extension": ".py",
   "mimetype": "text/x-python",
   "name": "python",
   "nbconvert_exporter": "python",
   "pygments_lexer": "ipython3",
   "version": "3.10.11"
  }
 },
 "nbformat": 4,
 "nbformat_minor": 5
}
